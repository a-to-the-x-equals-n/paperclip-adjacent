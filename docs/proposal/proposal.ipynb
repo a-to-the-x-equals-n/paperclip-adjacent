{
 "cells": [
  {
   "cell_type": "markdown",
   "metadata": {},
   "source": [
    "### `\"Paperclip Adjacent\"`\n",
    "_RAM for your brain_"
   ]
  },
  {
   "cell_type": "markdown",
   "metadata": {},
   "source": [
    "### __Overview__"
   ]
  },
  {
   "cell_type": "markdown",
   "metadata": {},
   "source": [
    "Some people like complicated task management apps. This isn’t for them. __Paperclip Adjacent (PA)__ keeps things minimal: send a text message to add new _memory_ (memcells), and send a text to receive a list of all the current tasks stashed in your _second brain_. No extra steps; no unnecessary overhead. Users interact with PA via a few keyword commands. And when users have a moment to sit down, they can fine-tune their memcells through a graphical user interface that keeps everything organized and accessible. No bloat, no distractions—just a simple system that works. PA is \"external RAM\" to help remember middling tasks that keep escaping our periphery."
   ]
  },
  {
   "cell_type": "markdown",
   "metadata": {},
   "source": [
    "### __Features__"
   ]
  },
  {
   "cell_type": "markdown",
   "metadata": {},
   "source": [
    "__Keyword Commands__\n",
    "- `\"list\"` Returns all active memcells with their corresponding unique IDs.  \n",
    "- `\"new <details>\"` Stores details in new memcell. \n",
    "- `\"del <ID>\"` Deletes a memcell by ID.  \n",
    "- `\"help\"` Lists available commands—defaults to `help` when an unrecognized keyword is received.\n",
    "\n",
    "__Authentication & Data Management__\n",
    "- Users are validated through usernames (email) and `bcrypt` hashed passwords to authenticate and secure login credentials.\n",
    "- Each user is uniquely identified by their phone number to distinguish users during SMS conversations.\n",
    "- Data is stored in `YAML` format (human-readable, easy to modify, commentable and structured for efficiency).\n",
    "\n",
    "__Rust-Based GUI__\n",
    "- Clean and smooth—no-nonsense—interface for managing memcells.\n",
    "- Possible frameworks include `egui` and `iced`—final choice will balance performance and user experience."
   ]
  },
  {
   "cell_type": "markdown",
   "metadata": {},
   "source": [
    "### __Technology Stack__"
   ]
  },
  {
   "cell_type": "markdown",
   "metadata": {},
   "source": [
    "\n",
    "| __SOFTWARE LAYER__ | __TECHNOLOGY__ |\n",
    "|--------------------|----------------|\n",
    "| __Presentation__   | GUI: Rust-based graphical interface using egui or iced                               |\n",
    "|                    | User Interaction: SMS-based command system|\n",
    "| __Application__    | Message Handling: Processing inbound and outbound SMS messages |\n",
    "|                    | Message Writing: Build email responses|\n",
    "| __Business Logic__ | Backend Processing: Python for SMS parsing, command execution, and response handling |\n",
    "|                    | Authentication: bcrypt for secure password hashing|\n",
    "| __Data Access__    | Storage Interface: Custom TinyDB wrapper for YAML support |\n",
    "|                    | Query Handling: Retrieving and updating user memcells|\n",
    "| __Database__       | Database: TinyDB (NoSQL, customized to store data in YAML format) |\n",
    "|                    | Storage Format: YAML (for users and memcells) |"
   ]
  },
  {
   "cell_type": "markdown",
   "metadata": {},
   "source": [
    "### __Architecture & Design Patterns__"
   ]
  },
  {
   "cell_type": "markdown",
   "metadata": {},
   "source": [
    "__Model View Controller (MVC)__  \n",
    "Separates data handling (TinyDB), processing logic (Python scripts), and user interaction (SMS & GUI).  \n",
    "\n",
    "__Observer Pattern__  \n",
    "Ensures the system actively detects and processes new SMS messages in real-time.\n",
    "\n",
    "__Factory Pattern__  \n",
    "Dynamically create new SMTP handlers for SMS conversations with different users."
   ]
  },
  {
   "cell_type": "markdown",
   "metadata": {},
   "source": [
    "### __Development Methodology__"
   ]
  },
  {
   "cell_type": "markdown",
   "metadata": {},
   "source": [
    "__Method__  \n",
    "- Agile\n",
    "\n",
    "__Setup__\n",
    "- Define requirements\n",
    "- Configure dependencies\n",
    "- Establish core architecture\n",
    "\n",
    "__Staged Development__\n",
    "1. Implement SMS retrieval and parsing.  \n",
    "2. Command processing and database integration.  \n",
    "3. GUI implementation and refinement.  \n",
    "\n",
    "__Testing__\n",
    "- __Nox__ for automated test sessions and environment management.\n",
    "- __mypy__ for static type checking and type safety.\n",
    "- __pytest__ for unit testing core functions and handling edge cases.\n",
    "- __clippy__ Rust linter for code quality and error prevention\n",
    "- __Cargo test__ Rust native testing framework"
   ]
  },
  {
   "cell_type": "markdown",
   "metadata": {},
   "source": [
    "### __Data Storage & Structure__"
   ]
  },
  {
   "cell_type": "markdown",
   "metadata": {},
   "source": [
    "Data is stored in __YAML format__, split into separate files for modularity and clarity."
   ]
  },
  {
   "cell_type": "markdown",
   "metadata": {},
   "source": [
    "__Authentication__  \n",
    "\n",
    "`master.yaml`\n",
    "```yaml\n",
    "# master list of users and passwords for quick lookup and validation\n",
    "auth:\n",
    "  - user: \"user@example.com\"\n",
    "    password: \"<hashed password>\"\n",
    "```"
   ]
  },
  {
   "cell_type": "markdown",
   "metadata": {},
   "source": [
    "__User Profile__\n",
    "\n",
    "`users.yaml`\n",
    "\n",
    "```yaml\n",
    "# user details, linking memcells by user ID\n",
    "users:\n",
    "  - user: \"user@example.com\"\n",
    "    phone: \"555-555-5555\"\n",
    "    memcells_id:\n",
    "      - 1  # References memcells.yaml\n",
    "```"
   ]
  },
  {
   "cell_type": "markdown",
   "metadata": {},
   "source": [
    "__Task Management__\n",
    "\n",
    "`memcells.yaml`\n",
    "\n",
    "```yaml\n",
    "# user created tasks\n",
    "memcells:\n",
    "  - id: 1\n",
    "    user: \"user@example.com\"\n",
    "    memcell: \"Your mother in law is coming to town March 15th.\"\n",
    "    status: \"pending\"\n",
    "```"
   ]
  },
  {
   "cell_type": "markdown",
   "metadata": {},
   "source": [
    "### __Considerations__"
   ]
  },
  {
   "cell_type": "markdown",
   "metadata": {},
   "source": [
    "__Bcrypt Password Hashing__  \n",
    "Ensures credentials are never stored in plaintext.\n",
    "\n",
    "__Phone Number Based Lookup__  \n",
    "Prevents message mix-ups by linking incoming texts to the right user.  \n",
    "\n",
    "__Task IDs__  \n",
    "Auto-generated UIDs maintain uniqueness and prevent conflicts.\n",
    "\n",
    "__Email vs Phone__  \n",
    "There are considerations to do away with email based logins, and simplify the data overhead and user credentials to just a mobile phone number."
   ]
  },
  {
   "cell_type": "markdown",
   "metadata": {},
   "source": [
    "### __Challenges__"
   ]
  },
  {
   "cell_type": "markdown",
   "metadata": {},
   "source": [
    "__Reliable SMS Parsing__  \n",
    "Handling different message formats within Gmail.  \n",
    "\n",
    "__Real-Time Messaging__  \n",
    "Making sure reminders and responses are handled promptly.  \n",
    "\n",
    "__GUI Frameworks__  \n",
    "Balancing desktop-native integration with ease of development."
   ]
  },
  {
   "cell_type": "markdown",
   "metadata": {},
   "source": [
    "### __Conclusion__"
   ]
  },
  {
   "cell_type": "markdown",
   "metadata": {},
   "source": [
    "This project delivers a streamlined, no-frills task management system powered by SMS. **Google Voice, Python, and TinyDB** work together to handle task management without unnecessary complexity. A desktop-native GUI offers additional flexibility, making the system as hands-off or hands-on as the user prefers. It's designed for efficiency, security, and simplicity. __Paperclip Adjacent__ gets the job done—without distractions."
   ]
  }
 ],
 "metadata": {
  "language_info": {
   "name": "python"
  }
 },
 "nbformat": 4,
 "nbformat_minor": 2
}
